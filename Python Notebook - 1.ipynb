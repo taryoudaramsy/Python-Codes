{
 "cells": [
  {
   "cell_type": "code",
   "execution_count": 1,
   "id": "a1b49000",
   "metadata": {},
   "outputs": [
    {
     "data": {
      "text/plain": [
       "5000"
      ]
     },
     "execution_count": 1,
     "metadata": {},
     "output_type": "execute_result"
    }
   ],
   "source": [
    "# Integers\n",
    "5000"
   ]
  },
  {
   "cell_type": "code",
   "execution_count": 2,
   "id": "3902da4e",
   "metadata": {},
   "outputs": [
    {
     "data": {
      "text/plain": [
       "int"
      ]
     },
     "execution_count": 2,
     "metadata": {},
     "output_type": "execute_result"
    }
   ],
   "source": [
    "type(5000)"
   ]
  },
  {
   "cell_type": "code",
   "execution_count": 3,
   "id": "95dadab8",
   "metadata": {},
   "outputs": [
    {
     "data": {
      "text/plain": [
       "2800"
      ]
     },
     "execution_count": 3,
     "metadata": {},
     "output_type": "execute_result"
    }
   ],
   "source": [
    "2800"
   ]
  },
  {
   "cell_type": "code",
   "execution_count": 4,
   "id": "4f0c07f7",
   "metadata": {},
   "outputs": [
    {
     "data": {
      "text/plain": [
       "int"
      ]
     },
     "execution_count": 4,
     "metadata": {},
     "output_type": "execute_result"
    }
   ],
   "source": [
    "type(2800)"
   ]
  },
  {
   "cell_type": "code",
   "execution_count": 5,
   "id": "5ee0fabf",
   "metadata": {},
   "outputs": [
    {
     "data": {
      "text/plain": [
       "24.3"
      ]
     },
     "execution_count": 5,
     "metadata": {},
     "output_type": "execute_result"
    }
   ],
   "source": [
    "# Floats\n",
    "24.3"
   ]
  },
  {
   "cell_type": "code",
   "execution_count": 6,
   "id": "60412180",
   "metadata": {},
   "outputs": [
    {
     "data": {
      "text/plain": [
       "float"
      ]
     },
     "execution_count": 6,
     "metadata": {},
     "output_type": "execute_result"
    }
   ],
   "source": [
    "type(24.3)"
   ]
  },
  {
   "cell_type": "code",
   "execution_count": 7,
   "id": "c0ecd2cd",
   "metadata": {},
   "outputs": [
    {
     "data": {
      "text/plain": [
       "40"
      ]
     },
     "execution_count": 7,
     "metadata": {},
     "output_type": "execute_result"
    }
   ],
   "source": [
    "# Multiplication\n",
    "5 * 8"
   ]
  },
  {
   "cell_type": "code",
   "execution_count": 8,
   "id": "33cb0500",
   "metadata": {},
   "outputs": [
    {
     "data": {
      "text/plain": [
       "16"
      ]
     },
     "execution_count": 8,
     "metadata": {},
     "output_type": "execute_result"
    }
   ],
   "source": [
    "# Addition\n",
    "7 + 9"
   ]
  },
  {
   "cell_type": "code",
   "execution_count": 9,
   "id": "ca33d348",
   "metadata": {},
   "outputs": [
    {
     "data": {
      "text/plain": [
       "12"
      ]
     },
     "execution_count": 9,
     "metadata": {},
     "output_type": "execute_result"
    }
   ],
   "source": [
    "# Subtraction\n",
    "100 - 88"
   ]
  },
  {
   "cell_type": "code",
   "execution_count": 10,
   "id": "c7d5270f",
   "metadata": {},
   "outputs": [
    {
     "data": {
      "text/plain": [
       "166.66666666666666"
      ]
     },
     "execution_count": 10,
     "metadata": {},
     "output_type": "execute_result"
    }
   ],
   "source": [
    "# Division\n",
    "1000/6"
   ]
  },
  {
   "cell_type": "code",
   "execution_count": 11,
   "id": "48a98f74",
   "metadata": {},
   "outputs": [
    {
     "data": {
      "text/plain": [
       "166"
      ]
     },
     "execution_count": 11,
     "metadata": {},
     "output_type": "execute_result"
    }
   ],
   "source": [
    "# Floor Division\n",
    "1000//6"
   ]
  },
  {
   "cell_type": "code",
   "execution_count": 12,
   "id": "83d05f82",
   "metadata": {},
   "outputs": [
    {
     "data": {
      "text/plain": [
       "4"
      ]
     },
     "execution_count": 12,
     "metadata": {},
     "output_type": "execute_result"
    }
   ],
   "source": [
    "# Modulo\n",
    "1000 % 6"
   ]
  },
  {
   "cell_type": "code",
   "execution_count": 13,
   "id": "066df26a",
   "metadata": {},
   "outputs": [
    {
     "data": {
      "text/plain": [
       "6.571428571428571"
      ]
     },
     "execution_count": 13,
     "metadata": {},
     "output_type": "execute_result"
    }
   ],
   "source": [
    "# BODMAS\n",
    "10 - 3 / 7 * 8"
   ]
  },
  {
   "cell_type": "code",
   "execution_count": 14,
   "id": "8121c553",
   "metadata": {},
   "outputs": [
    {
     "data": {
      "text/plain": [
       "0.125"
      ]
     },
     "execution_count": 14,
     "metadata": {},
     "output_type": "execute_result"
    }
   ],
   "source": [
    "(10 - 3) / (7 * 8)"
   ]
  },
  {
   "cell_type": "code",
   "execution_count": 15,
   "id": "6fee6891",
   "metadata": {},
   "outputs": [],
   "source": [
    "# Variable Assignment\n",
    "age = 24"
   ]
  },
  {
   "cell_type": "code",
   "execution_count": 16,
   "id": "ff8078e0",
   "metadata": {},
   "outputs": [
    {
     "data": {
      "text/plain": [
       "24"
      ]
     },
     "execution_count": 16,
     "metadata": {},
     "output_type": "execute_result"
    }
   ],
   "source": [
    "age"
   ]
  },
  {
   "cell_type": "code",
   "execution_count": 17,
   "id": "3f6aacb3",
   "metadata": {},
   "outputs": [
    {
     "data": {
      "text/plain": [
       "576"
      ]
     },
     "execution_count": 17,
     "metadata": {},
     "output_type": "execute_result"
    }
   ],
   "source": [
    "age * age"
   ]
  },
  {
   "cell_type": "code",
   "execution_count": 18,
   "id": "083b685d",
   "metadata": {},
   "outputs": [
    {
     "data": {
      "text/plain": [
       "13824"
      ]
     },
     "execution_count": 18,
     "metadata": {},
     "output_type": "execute_result"
    }
   ],
   "source": [
    "age**3"
   ]
  },
  {
   "cell_type": "code",
   "execution_count": 19,
   "id": "58c1dfc5",
   "metadata": {},
   "outputs": [
    {
     "data": {
      "text/plain": [
       "4.0"
      ]
     },
     "execution_count": 19,
     "metadata": {},
     "output_type": "execute_result"
    }
   ],
   "source": [
    "age/6"
   ]
  },
  {
   "cell_type": "code",
   "execution_count": 20,
   "id": "8b19de1f",
   "metadata": {},
   "outputs": [],
   "source": [
    "height = 56"
   ]
  },
  {
   "cell_type": "code",
   "execution_count": 21,
   "id": "f141599f",
   "metadata": {},
   "outputs": [
    {
     "data": {
      "text/plain": [
       "56"
      ]
     },
     "execution_count": 21,
     "metadata": {},
     "output_type": "execute_result"
    }
   ],
   "source": [
    "height"
   ]
  },
  {
   "cell_type": "code",
   "execution_count": 22,
   "id": "72f2e183",
   "metadata": {},
   "outputs": [
    {
     "data": {
      "text/plain": [
       "80"
      ]
     },
     "execution_count": 22,
     "metadata": {},
     "output_type": "execute_result"
    }
   ],
   "source": [
    "age + height"
   ]
  },
  {
   "cell_type": "code",
   "execution_count": 23,
   "id": "b2e409b3",
   "metadata": {},
   "outputs": [
    {
     "data": {
      "text/plain": [
       "0.42857142857142855"
      ]
     },
     "execution_count": 23,
     "metadata": {},
     "output_type": "execute_result"
    }
   ],
   "source": [
    "age/height"
   ]
  },
  {
   "cell_type": "code",
   "execution_count": 24,
   "id": "d2b8472f",
   "metadata": {},
   "outputs": [
    {
     "data": {
      "text/plain": [
       "167890.7"
      ]
     },
     "execution_count": 24,
     "metadata": {},
     "output_type": "execute_result"
    }
   ],
   "source": [
    "# Text Calculator\n",
    "\n",
    "basic_salary = 45000.0\n",
    "furniture_allowance = 34500.3\n",
    "medical_allowance = 21400.2\n",
    "housing_allowance = 67890.2\n",
    "tax_deduction = 0.02 * basic_salary\n",
    "\n",
    "monthly_salary = basic_salary + furniture_allowance + medical_allowance + housing_allowance - (tax_deduction)\n",
    "\n",
    "monthly_salary"
   ]
  },
  {
   "cell_type": "code",
   "execution_count": 25,
   "id": "c717a841",
   "metadata": {},
   "outputs": [
    {
     "name": "stdout",
     "output_type": "stream",
     "text": [
      "What is your basic salary? 45000.0\n",
      "What is your furniture allowance? 34500.3\n",
      "What is your medical allowance? 21400.2\n",
      "What is your housing allowance? 67890.2\n"
     ]
    },
    {
     "data": {
      "text/plain": [
       "167890.7"
      ]
     },
     "execution_count": 25,
     "metadata": {},
     "output_type": "execute_result"
    }
   ],
   "source": [
    "basic_salary = float(input(\"What is your basic salary? \"))\n",
    "furniture_allowance = float(input(\"What is your furniture allowance? \"))\n",
    "medical_allowance = float(input(\"What is your medical allowance? \"))\n",
    "housing_allowance = float(input(\"What is your housing allowance? \"))\n",
    "tax_deduction = 0.02 * basic_salary\n",
    "\n",
    "monthly_salary = basic_salary + furniture_allowance + medical_allowance + housing_allowance - (tax_deduction)\n",
    "\n",
    "monthly_salary"
   ]
  },
  {
   "cell_type": "code",
   "execution_count": 26,
   "id": "d99a4af1",
   "metadata": {},
   "outputs": [
    {
     "name": "stdout",
     "output_type": "stream",
     "text": [
      "What is your full name? Elon Musk\n",
      "What is your basic salary? 45000.0\n",
      "What is your furniture allowance? 34500.3\n",
      "What is your medical allowance? 21400.2\n",
      "What is your housing allowance? 67890.2\n",
      "Dear Elon Musk, as a staff of 10Alytics, your monthly tax deduction is $900.0 and your monthly salary is $167890.7\n"
     ]
    }
   ],
   "source": [
    "full_name = input(\"What is your full name? \")\n",
    "basic_salary = float(input(\"What is your basic salary? \"))\n",
    "furniture_allowance = float(input(\"What is your furniture allowance? \"))\n",
    "medical_allowance = float(input(\"What is your medical allowance? \"))\n",
    "housing_allowance = float(input(\"What is your housing allowance? \"))\n",
    "tax_deduction = 0.02 * basic_salary\n",
    "\n",
    "monthly_salary = basic_salary + furniture_allowance + medical_allowance + housing_allowance - (tax_deduction)\n",
    "\n",
    "monthly_salary\n",
    "\n",
    "print(f\"Dear {full_name}, as a staff of 10Alytics, your monthly tax deduction is ${tax_deduction} and your monthly salary is ${monthly_salary}\" )"
   ]
  },
  {
   "cell_type": "code",
   "execution_count": 27,
   "id": "40cb7e59",
   "metadata": {},
   "outputs": [
    {
     "data": {
      "text/plain": [
       "'Hello World'"
      ]
     },
     "execution_count": 27,
     "metadata": {},
     "output_type": "execute_result"
    }
   ],
   "source": [
    "#Strings\n",
    "\n",
    "\"Hello World\""
   ]
  },
  {
   "cell_type": "code",
   "execution_count": 28,
   "id": "bf383c47",
   "metadata": {},
   "outputs": [
    {
     "data": {
      "text/plain": [
       "str"
      ]
     },
     "execution_count": 28,
     "metadata": {},
     "output_type": "execute_result"
    }
   ],
   "source": [
    "type(\"Hello World\")"
   ]
  },
  {
   "cell_type": "code",
   "execution_count": 29,
   "id": "8a17e537",
   "metadata": {},
   "outputs": [
    {
     "data": {
      "text/plain": [
       "'Olusegun Obasanjo'"
      ]
     },
     "execution_count": 29,
     "metadata": {},
     "output_type": "execute_result"
    }
   ],
   "source": [
    "first_name = \"Olusegun\"\n",
    "last_name = \"Obasanjo\"\n",
    "full_name = first_name + \" \" + last_name\n",
    "\n",
    "full_name"
   ]
  },
  {
   "cell_type": "code",
   "execution_count": 30,
   "id": "d9d9b8a7",
   "metadata": {},
   "outputs": [
    {
     "name": "stdout",
     "output_type": "stream",
     "text": [
      "What is your first name? Isaac \n",
      "What is your last name? Newton\n"
     ]
    },
    {
     "data": {
      "text/plain": [
       "'Isaac  Newton'"
      ]
     },
     "execution_count": 30,
     "metadata": {},
     "output_type": "execute_result"
    }
   ],
   "source": [
    "first_name = str(input(\"What is your first name? \"))\n",
    "last_name = str(input(\"What is your last name? \"))\n",
    "full_name = first_name + \" \" + last_name\n",
    "\n",
    "full_name"
   ]
  },
  {
   "cell_type": "code",
   "execution_count": 31,
   "id": "61e86945",
   "metadata": {},
   "outputs": [
    {
     "data": {
      "text/plain": [
       "'Olusegun Obasanjo'"
      ]
     },
     "execution_count": 31,
     "metadata": {},
     "output_type": "execute_result"
    }
   ],
   "source": [
    "#Indexing\n",
    "\n",
    "full_name = \"Olusegun Obasanjo\"\n",
    "full_name"
   ]
  },
  {
   "cell_type": "code",
   "execution_count": 32,
   "id": "4dfc5819",
   "metadata": {},
   "outputs": [
    {
     "data": {
      "text/plain": [
       "'O'"
      ]
     },
     "execution_count": 32,
     "metadata": {},
     "output_type": "execute_result"
    }
   ],
   "source": [
    "full_name[0]"
   ]
  },
  {
   "cell_type": "code",
   "execution_count": 33,
   "id": "c0f2ed5a",
   "metadata": {},
   "outputs": [
    {
     "data": {
      "text/plain": [
       "'e'"
      ]
     },
     "execution_count": 33,
     "metadata": {},
     "output_type": "execute_result"
    }
   ],
   "source": [
    "full_name[4]"
   ]
  },
  {
   "cell_type": "code",
   "execution_count": 34,
   "id": "3cef64da",
   "metadata": {},
   "outputs": [
    {
     "data": {
      "text/plain": [
       "' '"
      ]
     },
     "execution_count": 34,
     "metadata": {},
     "output_type": "execute_result"
    }
   ],
   "source": [
    "full_name[8]"
   ]
  },
  {
   "cell_type": "code",
   "execution_count": 35,
   "id": "d0419543",
   "metadata": {},
   "outputs": [
    {
     "data": {
      "text/plain": [
       "'Olusegun'"
      ]
     },
     "execution_count": 35,
     "metadata": {},
     "output_type": "execute_result"
    }
   ],
   "source": [
    "#Slicing\n",
    "full_name[0:8]"
   ]
  },
  {
   "cell_type": "code",
   "execution_count": 36,
   "id": "86bc8d04",
   "metadata": {},
   "outputs": [
    {
     "data": {
      "text/plain": [
       "'Obasanjo'"
      ]
     },
     "execution_count": 36,
     "metadata": {},
     "output_type": "execute_result"
    }
   ],
   "source": [
    "full_name[9:]"
   ]
  },
  {
   "cell_type": "code",
   "execution_count": 37,
   "id": "81ea25ff",
   "metadata": {},
   "outputs": [
    {
     "data": {
      "text/plain": [
       "'123456789'"
      ]
     },
     "execution_count": 37,
     "metadata": {},
     "output_type": "execute_result"
    }
   ],
   "source": [
    "num = \"123456789\"\n",
    "num"
   ]
  },
  {
   "cell_type": "code",
   "execution_count": 38,
   "id": "00beb512",
   "metadata": {},
   "outputs": [
    {
     "data": {
      "text/plain": [
       "'2'"
      ]
     },
     "execution_count": 38,
     "metadata": {},
     "output_type": "execute_result"
    }
   ],
   "source": [
    "num[1]"
   ]
  },
  {
   "cell_type": "code",
   "execution_count": 39,
   "id": "0626e5ea",
   "metadata": {},
   "outputs": [
    {
     "data": {
      "text/plain": [
       "'3'"
      ]
     },
     "execution_count": 39,
     "metadata": {},
     "output_type": "execute_result"
    }
   ],
   "source": [
    "num[2]"
   ]
  },
  {
   "cell_type": "code",
   "execution_count": 40,
   "id": "4cb44daa",
   "metadata": {},
   "outputs": [
    {
     "data": {
      "text/plain": [
       "'123'"
      ]
     },
     "execution_count": 40,
     "metadata": {},
     "output_type": "execute_result"
    }
   ],
   "source": [
    "num[0:3]"
   ]
  },
  {
   "cell_type": "code",
   "execution_count": 41,
   "id": "9dc700a5",
   "metadata": {},
   "outputs": [
    {
     "data": {
      "text/plain": [
       "'8'"
      ]
     },
     "execution_count": 41,
     "metadata": {},
     "output_type": "execute_result"
    }
   ],
   "source": [
    "#Negative Indexing\n",
    "num[-2]"
   ]
  },
  {
   "cell_type": "code",
   "execution_count": 42,
   "id": "7b31cc10",
   "metadata": {},
   "outputs": [
    {
     "data": {
      "text/plain": [
       "'2'"
      ]
     },
     "execution_count": 42,
     "metadata": {},
     "output_type": "execute_result"
    }
   ],
   "source": [
    "num[-8]"
   ]
  },
  {
   "cell_type": "code",
   "execution_count": 43,
   "id": "64326b03",
   "metadata": {},
   "outputs": [
    {
     "data": {
      "text/plain": [
       "'2468'"
      ]
     },
     "execution_count": 43,
     "metadata": {},
     "output_type": "execute_result"
    }
   ],
   "source": [
    "#Slice Even numbers - Start from 1 to the end and jump two steps\n",
    "num[1::2]"
   ]
  },
  {
   "cell_type": "code",
   "execution_count": 44,
   "id": "d7aa8e22",
   "metadata": {},
   "outputs": [
    {
     "data": {
      "text/plain": [
       "'13579'"
      ]
     },
     "execution_count": 44,
     "metadata": {},
     "output_type": "execute_result"
    }
   ],
   "source": [
    "#Slice Odd numbers - Start from 0 to the end and jump two steps\n",
    "num[0::2]"
   ]
  },
  {
   "cell_type": "code",
   "execution_count": 45,
   "id": "422bc2d2",
   "metadata": {},
   "outputs": [],
   "source": [
    "#Print Formatting\n",
    "\n",
    "# .format....dot format method\n",
    "# Placeholder method\n",
    "# f-strings"
   ]
  },
  {
   "cell_type": "code",
   "execution_count": 46,
   "id": "d47a61d2",
   "metadata": {},
   "outputs": [
    {
     "name": "stdout",
     "output_type": "stream",
     "text": [
      "My name is Nnamdi and I am 43 years old\n"
     ]
    }
   ],
   "source": [
    "# dot format\n",
    "\n",
    "name = \"Nnamdi\"\n",
    "age = 43\n",
    "\n",
    "print(\"My name is {} and I am {} years old\".format(name, age))"
   ]
  },
  {
   "cell_type": "code",
   "execution_count": 47,
   "id": "7560b371",
   "metadata": {},
   "outputs": [
    {
     "name": "stdout",
     "output_type": "stream",
     "text": [
      "What is your name? Isaac Newton\n",
      "How old are you? 98\n",
      "My name is Isaac Newton and I am 98 years old\n"
     ]
    }
   ],
   "source": [
    "#placeholder ---%s, %\n",
    "\n",
    "name = input(\"What is your name? \")\n",
    "age = int(input(\"How old are you? \"))\n",
    "\n",
    "print(\"My name is %s and I am %s years old\" %(name, age))"
   ]
  },
  {
   "cell_type": "code",
   "execution_count": 48,
   "id": "c5b1992e",
   "metadata": {},
   "outputs": [
    {
     "name": "stdout",
     "output_type": "stream",
     "text": [
      "What is your name? Isaac Newton\n",
      "How old are you? 98\n",
      "My name is Isaac Newton and I am 98 years old\n"
     ]
    }
   ],
   "source": [
    "# f-strings\n",
    "\n",
    "name = input(\"What is your name? \")\n",
    "age = int(input(\"How old are you? \"))\n",
    "\n",
    "print(f\"My name is {name} and I am {age} years old\")"
   ]
  },
  {
   "cell_type": "code",
   "execution_count": 49,
   "id": "a88ddb71",
   "metadata": {},
   "outputs": [
    {
     "name": "stdout",
     "output_type": "stream",
     "text": [
      "What is your full name Temitayo Daramola\n",
      "How old are you? 45\n",
      "What is your weight in Kg? 75\n",
      "What is your height in Metre? 1.75\n",
      "Hello Temitayo Daramola, you are 45 years old and your BMI is 24.489795918367346\n"
     ]
    }
   ],
   "source": [
    "#Body Mass Index Calculator\n",
    "\n",
    "# .format method\n",
    "\n",
    "full_name = input(\"What is your full name \")\n",
    "age = int(input(\"How old are you? \"))\n",
    "weight = float(input(\"What is your weight in Kg? \"))\n",
    "height = float(input(\"What is your height in Metre? \"))\n",
    "bmi = weight/(height*height)\n",
    "    \n",
    "print(\"Hello {}, you are {} years old and your BMI is {}\".format(full_name, age, bmi))"
   ]
  },
  {
   "cell_type": "code",
   "execution_count": 50,
   "id": "26837ee7",
   "metadata": {},
   "outputs": [
    {
     "name": "stdout",
     "output_type": "stream",
     "text": [
      "What is your full nameJose Mourinho\n",
      "How old are you? 56\n",
      "What is your weight in Kg? 82\n",
      "What is your height in Metre? 1.60\n",
      "Hello Jose Mourinho, you are 56 years old and your BMI is 32.03124999999999\n"
     ]
    }
   ],
   "source": [
    "# Placeholder\n",
    "\n",
    "full_name = input(\"What is your full name\")\n",
    "age = int(input(\"How old are you? \"))\n",
    "weight = float(input(\"What is your weight in Kg? \"))\n",
    "height = float(input(\"What is your height in Metre? \"))\n",
    "bmi = weight/(height*height)\n",
    "\n",
    "print(\"Hello %s, you are %s years old and your BMI is %s\" %(full_name, age, bmi))"
   ]
  },
  {
   "cell_type": "code",
   "execution_count": 51,
   "id": "1e14a3bb",
   "metadata": {},
   "outputs": [
    {
     "name": "stdout",
     "output_type": "stream",
     "text": [
      "What is your full nameAlex Ferguson\n",
      "How old are you? 78\n",
      "What is your weight in Kg? 89\n",
      "What is your height in Metre? 1.65\n",
      "Hello Alex Ferguson, you are 78 years old and your BMI is 32.690541781450875\n"
     ]
    }
   ],
   "source": [
    "# f-strings\n",
    "\n",
    "full_name = input(\"What is your full name\")\n",
    "age = int(input(\"How old are you? \"))\n",
    "weight = float(input(\"What is your weight in Kg? \"))\n",
    "height = float(input(\"What is your height in Metre? \"))\n",
    "bmi = weight/(height*height)\n",
    "\n",
    "print(f\"Hello {full_name}, you are {age} years old and your BMI is {bmi}\")"
   ]
  },
  {
   "cell_type": "code",
   "execution_count": 52,
   "id": "20968931",
   "metadata": {},
   "outputs": [
    {
     "data": {
      "text/plain": [
       "['Lagos', 'Oyo', 'Osun', 'Ondo', 'Edo']"
      ]
     },
     "execution_count": 52,
     "metadata": {},
     "output_type": "execute_result"
    }
   ],
   "source": [
    "# List...when creating a list, you are using squared brackets\n",
    "\n",
    "nigeria_states = [\"Lagos\", \"Oyo\", \"Osun\", \"Ondo\", \"Edo\"]\n",
    "nigeria_states"
   ]
  },
  {
   "cell_type": "code",
   "execution_count": 53,
   "id": "b3e771f6",
   "metadata": {},
   "outputs": [
    {
     "data": {
      "text/plain": [
       "list"
      ]
     },
     "execution_count": 53,
     "metadata": {},
     "output_type": "execute_result"
    }
   ],
   "source": [
    "type(nigeria_states)"
   ]
  },
  {
   "cell_type": "code",
   "execution_count": 54,
   "id": "5ce9b7b5",
   "metadata": {},
   "outputs": [
    {
     "data": {
      "text/plain": [
       "['Lagos', 'Oyo', 'Osun', 'Ondo', 'Edo']"
      ]
     },
     "execution_count": 54,
     "metadata": {},
     "output_type": "execute_result"
    }
   ],
   "source": [
    "#Indexing and Slicing in List\n",
    "\n",
    "nigeria_states = [\"Lagos\", \"Oyo\", \"Osun\", \"Ondo\", \"Edo\"]\n",
    "nigeria_states"
   ]
  },
  {
   "cell_type": "code",
   "execution_count": 55,
   "id": "5f2a1f69",
   "metadata": {},
   "outputs": [
    {
     "data": {
      "text/plain": [
       "'Oyo'"
      ]
     },
     "execution_count": 55,
     "metadata": {},
     "output_type": "execute_result"
    }
   ],
   "source": [
    "nigeria_states[1]"
   ]
  },
  {
   "cell_type": "code",
   "execution_count": 56,
   "id": "7ca74778",
   "metadata": {},
   "outputs": [
    {
     "data": {
      "text/plain": [
       "'Edo'"
      ]
     },
     "execution_count": 56,
     "metadata": {},
     "output_type": "execute_result"
    }
   ],
   "source": [
    "nigeria_states[4]"
   ]
  },
  {
   "cell_type": "code",
   "execution_count": 57,
   "id": "d4b9d4a3",
   "metadata": {},
   "outputs": [
    {
     "data": {
      "text/plain": [
       "['Lagos', 'Oyo', 'Osun', 'Ondo', 'Edo']"
      ]
     },
     "execution_count": 57,
     "metadata": {},
     "output_type": "execute_result"
    }
   ],
   "source": [
    "nigeria_states[0::]"
   ]
  },
  {
   "cell_type": "code",
   "execution_count": 58,
   "id": "86a30f92",
   "metadata": {},
   "outputs": [
    {
     "data": {
      "text/plain": [
       "['Lagos', 'Osun', 'Edo']"
      ]
     },
     "execution_count": 58,
     "metadata": {},
     "output_type": "execute_result"
    }
   ],
   "source": [
    "nigeria_states[0::2]"
   ]
  },
  {
   "cell_type": "code",
   "execution_count": 59,
   "id": "9e1933f3",
   "metadata": {},
   "outputs": [
    {
     "data": {
      "text/plain": [
       "['Oyo', 'Osun']"
      ]
     },
     "execution_count": 59,
     "metadata": {},
     "output_type": "execute_result"
    }
   ],
   "source": [
    "nigeria_states[1:3]"
   ]
  },
  {
   "cell_type": "code",
   "execution_count": 60,
   "id": "febc826d",
   "metadata": {},
   "outputs": [
    {
     "data": {
      "text/plain": [
       "['Lagos', 'Oyo', 'Osun', 'Ondo', 'Edo', 'Rivers']"
      ]
     },
     "execution_count": 60,
     "metadata": {},
     "output_type": "execute_result"
    }
   ],
   "source": [
    "# To add additional States to the list\n",
    "\n",
    "nigeria_states = [\"Lagos\", \"Oyo\", \"Osun\", \"Ondo\", \"Edo\"]\n",
    "nigeria_states.append(\"Rivers\")\n",
    "nigeria_states"
   ]
  },
  {
   "cell_type": "code",
   "execution_count": 68,
   "id": "fa0f4762",
   "metadata": {},
   "outputs": [
    {
     "data": {
      "text/plain": [
       "['Lagos', 'Oyo', 'Osun', 'Ondo', 'Edo']"
      ]
     },
     "execution_count": 68,
     "metadata": {},
     "output_type": "execute_result"
    }
   ],
   "source": [
    "# To delete a name\n",
    "\n",
    "nigeria_states = [\"Lagos\", \"Oyo\", \"Osun\", \"Ondo\", \"Edo\"]\n",
    "nigeria_states"
   ]
  },
  {
   "cell_type": "code",
   "execution_count": 69,
   "id": "df2df892",
   "metadata": {},
   "outputs": [
    {
     "data": {
      "text/plain": [
       "'Edo'"
      ]
     },
     "execution_count": 69,
     "metadata": {},
     "output_type": "execute_result"
    }
   ],
   "source": [
    "nigeria_states.pop()"
   ]
  },
  {
   "cell_type": "code",
   "execution_count": 63,
   "id": "5255ee2e",
   "metadata": {},
   "outputs": [
    {
     "data": {
      "text/plain": [
       "'Osun'"
      ]
     },
     "execution_count": 63,
     "metadata": {},
     "output_type": "execute_result"
    }
   ],
   "source": [
    "nigeria_states.pop(2)"
   ]
  },
  {
   "cell_type": "code",
   "execution_count": 64,
   "id": "014936a3",
   "metadata": {},
   "outputs": [
    {
     "data": {
      "text/plain": [
       "['Lagos', 'Oyo', 'Osun', 'Ondo', 'Edo']"
      ]
     },
     "execution_count": 64,
     "metadata": {},
     "output_type": "execute_result"
    }
   ],
   "source": [
    "nigeria_states = [\"Lagos\", \"Oyo\", \"Osun\", \"Ondo\", \"Edo\"]\n",
    "nigeria_states"
   ]
  },
  {
   "cell_type": "code",
   "execution_count": 65,
   "id": "5109947e",
   "metadata": {},
   "outputs": [],
   "source": [
    "nigeria_states.reverse()"
   ]
  },
  {
   "cell_type": "code",
   "execution_count": 67,
   "id": "4370570e",
   "metadata": {},
   "outputs": [
    {
     "data": {
      "text/plain": [
       "['Adeola', 1, 'Azeez', 456, 'Lagos', 'Abuja', 78]"
      ]
     },
     "execution_count": 67,
     "metadata": {},
     "output_type": "execute_result"
    }
   ],
   "source": [
    "names = [\"Adeola\", 1, \"Azeez\", 456, \"Lagos\", \"Abuja\", 78]\n",
    "names"
   ]
  },
  {
   "cell_type": "code",
   "execution_count": 81,
   "id": "4d6fee73",
   "metadata": {},
   "outputs": [
    {
     "data": {
      "text/plain": [
       "{'key1': 'value1', 'key2': 'value2', 'key3': 'value3'}"
      ]
     },
     "execution_count": 81,
     "metadata": {},
     "output_type": "execute_result"
    }
   ],
   "source": [
    "# Dictionaries ............we use the curly brackets {}, and values are in pairs\n",
    "\n",
    "function = {\"key1\": \"value1\", \"key2\": \"value2\", \"key3\": \"value3\"}\n",
    "function"
   ]
  },
  {
   "cell_type": "code",
   "execution_count": 82,
   "id": "377dc09c",
   "metadata": {},
   "outputs": [
    {
     "data": {
      "text/plain": [
       "dict"
      ]
     },
     "execution_count": 82,
     "metadata": {},
     "output_type": "execute_result"
    }
   ],
   "source": [
    "type(function)"
   ]
  },
  {
   "cell_type": "code",
   "execution_count": 83,
   "id": "250d93e0",
   "metadata": {},
   "outputs": [
    {
     "data": {
      "text/plain": [
       "{'Name': 'Bill Clinton',\n",
       " 'Age': 77,\n",
       " 'Marital Status': 'Married',\n",
       " 'Address': 'United States of America'}"
      ]
     },
     "execution_count": 83,
     "metadata": {},
     "output_type": "execute_result"
    }
   ],
   "source": [
    "bio_data = {\"Name\": \"Bill Clinton\", \"Age\": 77, \"Marital Status\": \"Married\", \"Address\": \"United States of America\"}\n",
    "bio_data"
   ]
  },
  {
   "cell_type": "code",
   "execution_count": 84,
   "id": "407b9501",
   "metadata": {},
   "outputs": [
    {
     "data": {
      "text/plain": [
       "'Bill Clinton'"
      ]
     },
     "execution_count": 84,
     "metadata": {},
     "output_type": "execute_result"
    }
   ],
   "source": [
    "bio_data [\"Name\"]"
   ]
  },
  {
   "cell_type": "code",
   "execution_count": 86,
   "id": "30d27787",
   "metadata": {},
   "outputs": [
    {
     "data": {
      "text/plain": [
       "'United States of America'"
      ]
     },
     "execution_count": 86,
     "metadata": {},
     "output_type": "execute_result"
    }
   ],
   "source": [
    "bio_data[\"Address\"]"
   ]
  },
  {
   "cell_type": "code",
   "execution_count": 87,
   "id": "c2e35145",
   "metadata": {},
   "outputs": [
    {
     "data": {
      "text/plain": [
       "{'Name': 'Bill Clinton',\n",
       " 'Age': 77,\n",
       " 'Marital Status': 'Married',\n",
       " 'Address': 'United States of America',\n",
       " 'Colour': 'Black'}"
      ]
     },
     "execution_count": 87,
     "metadata": {},
     "output_type": "execute_result"
    }
   ],
   "source": [
    "# To add another data sets on dictionaries\n",
    "\n",
    "bio_data[\"Colour\"] = \"Black\"\n",
    "bio_data"
   ]
  },
  {
   "cell_type": "code",
   "execution_count": 89,
   "id": "11fcc2a3",
   "metadata": {},
   "outputs": [
    {
     "data": {
      "text/plain": [
       "{'Name': 'Bill Clinton',\n",
       " 'Age': 77,\n",
       " 'Marital Status': 'Married',\n",
       " 'Address': 'United States of America',\n",
       " 'Colour': 'Black',\n",
       " 'Siblings': ['John', 'Lincoln', 'Usman', 'Wale']}"
      ]
     },
     "execution_count": 89,
     "metadata": {},
     "output_type": "execute_result"
    }
   ],
   "source": [
    "bio_data[\"Siblings\"] = [\"John\", \"Lincoln\", \"Usman\", \"Wale\"]\n",
    "bio_data"
   ]
  },
  {
   "cell_type": "code",
   "execution_count": 90,
   "id": "7b7289ef",
   "metadata": {},
   "outputs": [
    {
     "data": {
      "text/plain": [
       "['John', 'Lincoln', 'Usman', 'Wale']"
      ]
     },
     "execution_count": 90,
     "metadata": {},
     "output_type": "execute_result"
    }
   ],
   "source": [
    "bio_data[\"Siblings\"]"
   ]
  },
  {
   "cell_type": "code",
   "execution_count": 92,
   "id": "b3b1d818",
   "metadata": {},
   "outputs": [
    {
     "data": {
      "text/plain": [
       "'Usman'"
      ]
     },
     "execution_count": 92,
     "metadata": {},
     "output_type": "execute_result"
    }
   ],
   "source": [
    "bio_data[\"Siblings\"][2]"
   ]
  },
  {
   "cell_type": "code",
   "execution_count": 93,
   "id": "43047229",
   "metadata": {},
   "outputs": [
    {
     "data": {
      "text/plain": [
       "'Lincoln'"
      ]
     },
     "execution_count": 93,
     "metadata": {},
     "output_type": "execute_result"
    }
   ],
   "source": [
    "bio_data[\"Siblings\"][1]"
   ]
  },
  {
   "cell_type": "code",
   "execution_count": 94,
   "id": "6a709268",
   "metadata": {},
   "outputs": [
    {
     "data": {
      "text/plain": [
       "[34, 78, 45, 99, 32]"
      ]
     },
     "execution_count": 94,
     "metadata": {},
     "output_type": "execute_result"
    }
   ],
   "source": [
    "# Tuple...A sequence of items that are in order and cannot be modified, they make use of the normal brackets ()\n",
    "\n",
    "age = [34, 78, 45, 99, 32]\n",
    "age"
   ]
  },
  {
   "cell_type": "code",
   "execution_count": 102,
   "id": "c3f63503",
   "metadata": {},
   "outputs": [
    {
     "data": {
      "text/plain": [
       "list"
      ]
     },
     "execution_count": 102,
     "metadata": {},
     "output_type": "execute_result"
    }
   ],
   "source": [
    "type(age)"
   ]
  },
  {
   "cell_type": "code",
   "execution_count": 96,
   "id": "df2feb27",
   "metadata": {},
   "outputs": [
    {
     "data": {
      "text/plain": [
       "34"
      ]
     },
     "execution_count": 96,
     "metadata": {},
     "output_type": "execute_result"
    }
   ],
   "source": [
    "age[0]"
   ]
  },
  {
   "cell_type": "code",
   "execution_count": 97,
   "id": "5da3b7e5",
   "metadata": {},
   "outputs": [
    {
     "data": {
      "text/plain": [
       "45"
      ]
     },
     "execution_count": 97,
     "metadata": {},
     "output_type": "execute_result"
    }
   ],
   "source": [
    "age[2]"
   ]
  },
  {
   "cell_type": "code",
   "execution_count": 99,
   "id": "5b84915e",
   "metadata": {},
   "outputs": [
    {
     "data": {
      "text/plain": [
       "[32, 78, 45, 99, 32]"
      ]
     },
     "execution_count": 99,
     "metadata": {},
     "output_type": "execute_result"
    }
   ],
   "source": [
    "# To replace an item on the list...\n",
    "age[0] = 32\n",
    "age"
   ]
  },
  {
   "cell_type": "code",
   "execution_count": 100,
   "id": "c8f0dc6a",
   "metadata": {},
   "outputs": [
    {
     "data": {
      "text/plain": [
       "[32, 78, 67, 99, 32]"
      ]
     },
     "execution_count": 100,
     "metadata": {},
     "output_type": "execute_result"
    }
   ],
   "source": [
    "age[2] = 67\n",
    "age"
   ]
  },
  {
   "cell_type": "code",
   "execution_count": 107,
   "id": "a0276b6f",
   "metadata": {},
   "outputs": [
    {
     "data": {
      "text/plain": [
       "('London', 'Manchester', 34, 'Youth', 48)"
      ]
     },
     "execution_count": 107,
     "metadata": {},
     "output_type": "execute_result"
    }
   ],
   "source": [
    "# But for a tuple, you can't replace....for example\n",
    "\n",
    "data = (\"London\", \"Manchester\", 34, \"Youth\", 48)\n",
    "data"
   ]
  },
  {
   "cell_type": "code",
   "execution_count": 108,
   "id": "b2722400",
   "metadata": {},
   "outputs": [
    {
     "data": {
      "text/plain": [
       "tuple"
      ]
     },
     "execution_count": 108,
     "metadata": {},
     "output_type": "execute_result"
    }
   ],
   "source": [
    "type(data)"
   ]
  },
  {
   "cell_type": "code",
   "execution_count": 109,
   "id": "fb980c5c",
   "metadata": {},
   "outputs": [
    {
     "data": {
      "text/plain": [
       "'Manchester'"
      ]
     },
     "execution_count": 109,
     "metadata": {},
     "output_type": "execute_result"
    }
   ],
   "source": [
    "data[1]"
   ]
  },
  {
   "cell_type": "code",
   "execution_count": 110,
   "id": "55167ab6",
   "metadata": {},
   "outputs": [
    {
     "ename": "TypeError",
     "evalue": "'tuple' object does not support item assignment",
     "output_type": "error",
     "traceback": [
      "\u001b[1;31m---------------------------------------------------------------------------\u001b[0m",
      "\u001b[1;31mTypeError\u001b[0m                                 Traceback (most recent call last)",
      "Input \u001b[1;32mIn [110]\u001b[0m, in \u001b[0;36m<cell line: 3>\u001b[1;34m()\u001b[0m\n\u001b[0;32m      1\u001b[0m \u001b[38;5;66;03m# Replacing a tuple will bring out an error\u001b[39;00m\n\u001b[1;32m----> 3\u001b[0m data[\u001b[38;5;241m1\u001b[39m] \u001b[38;5;241m=\u001b[39m \u001b[38;5;124m\"\u001b[39m\u001b[38;5;124mCanada\u001b[39m\u001b[38;5;124m\"\u001b[39m\n",
      "\u001b[1;31mTypeError\u001b[0m: 'tuple' object does not support item assignment"
     ]
    }
   ],
   "source": [
    "# Replacing a tuple will bring out an error\n",
    "\n",
    "data[1] = \"Canada\""
   ]
  },
  {
   "cell_type": "code",
   "execution_count": 111,
   "id": "5e9d099f",
   "metadata": {},
   "outputs": [
    {
     "data": {
      "text/plain": [
       "{0, 1, 2, 3, 4, 5, 9}"
      ]
     },
     "execution_count": 111,
     "metadata": {},
     "output_type": "execute_result"
    }
   ],
   "source": [
    "# Set - Collection of unique items that are not ordered, they make use of curly brackets\n",
    "\n",
    "num = {2,4,4,4,4,4,4,4,5,5,5,5,3,3,3,3,3,3,1,1,1,1,1,9,9,9,9,9,9,0,0,0,0,0,}\n",
    "num"
   ]
  },
  {
   "cell_type": "code",
   "execution_count": 112,
   "id": "bcc0147e",
   "metadata": {},
   "outputs": [
    {
     "data": {
      "text/plain": [
       "['Wilson',\n",
       " 'Godfrey',\n",
       " 'Jackson',\n",
       " 'Obama',\n",
       " 'Wilson',\n",
       " 'Wilson',\n",
       " 'Jackson',\n",
       " 'Jackson']"
      ]
     },
     "execution_count": 112,
     "metadata": {},
     "output_type": "execute_result"
    }
   ],
   "source": [
    "names = [\"Wilson\", \"Godfrey\", \"Jackson\", \"Obama\", \"Wilson\", \"Wilson\", \"Jackson\", \"Jackson\"]\n",
    "names"
   ]
  },
  {
   "cell_type": "code",
   "execution_count": 115,
   "id": "d59cd196",
   "metadata": {},
   "outputs": [
    {
     "data": {
      "text/plain": [
       "{'Godfrey', 'Jackson', 'Obama', 'Wilson'}"
      ]
     },
     "execution_count": 115,
     "metadata": {},
     "output_type": "execute_result"
    }
   ],
   "source": [
    "set(names)"
   ]
  },
  {
   "cell_type": "code",
   "execution_count": 120,
   "id": "8579511f",
   "metadata": {},
   "outputs": [
    {
     "data": {
      "text/plain": [
       "{'Godfrey', 'Jackson', 'Lucky', 'Obama', 'Wilson'}"
      ]
     },
     "execution_count": 120,
     "metadata": {},
     "output_type": "execute_result"
    }
   ],
   "source": [
    "names = {'Godfrey', 'Jackson', 'Obama', 'Wilson'}\n",
    "names.add(\"Lucky\")\n",
    "names"
   ]
  },
  {
   "cell_type": "code",
   "execution_count": 122,
   "id": "4d3a1b76",
   "metadata": {},
   "outputs": [
    {
     "data": {
      "text/plain": [
       "{'Godfrey', 'Jackson', 'Lucky', 'Obama', 'Wilson'}"
      ]
     },
     "execution_count": 122,
     "metadata": {},
     "output_type": "execute_result"
    }
   ],
   "source": [
    "names.add(\"Obama\")\n",
    "names"
   ]
  },
  {
   "cell_type": "code",
   "execution_count": 123,
   "id": "f4c2ebf8",
   "metadata": {},
   "outputs": [
    {
     "data": {
      "text/plain": [
       "{'Bobby', 'Godfrey', 'Jackson', 'Lucky', 'Obama', 'Wilson'}"
      ]
     },
     "execution_count": 123,
     "metadata": {},
     "output_type": "execute_result"
    }
   ],
   "source": [
    "names.add(\"Bobby\")\n",
    "names"
   ]
  },
  {
   "cell_type": "code",
   "execution_count": 124,
   "id": "7d9be38f",
   "metadata": {},
   "outputs": [
    {
     "data": {
      "text/plain": [
       "True"
      ]
     },
     "execution_count": 124,
     "metadata": {},
     "output_type": "execute_result"
    }
   ],
   "source": [
    "# Boolean....True or False\n",
    "\n",
    "1 == 1"
   ]
  },
  {
   "cell_type": "code",
   "execution_count": 125,
   "id": "32466762",
   "metadata": {},
   "outputs": [
    {
     "data": {
      "text/plain": [
       "False"
      ]
     },
     "execution_count": 125,
     "metadata": {},
     "output_type": "execute_result"
    }
   ],
   "source": [
    "1 == 7"
   ]
  },
  {
   "cell_type": "code",
   "execution_count": 126,
   "id": "f4ee90c5",
   "metadata": {},
   "outputs": [
    {
     "data": {
      "text/plain": [
       "True"
      ]
     },
     "execution_count": 126,
     "metadata": {},
     "output_type": "execute_result"
    }
   ],
   "source": [
    "\"Temitayo\" == \"Temitayo\""
   ]
  },
  {
   "cell_type": "code",
   "execution_count": 127,
   "id": "00a94ebe",
   "metadata": {},
   "outputs": [
    {
     "data": {
      "text/plain": [
       "False"
      ]
     },
     "execution_count": 127,
     "metadata": {},
     "output_type": "execute_result"
    }
   ],
   "source": [
    "\"Temitayo\" == \"temitayo\""
   ]
  },
  {
   "cell_type": "code",
   "execution_count": 128,
   "id": "b25a7142",
   "metadata": {},
   "outputs": [
    {
     "data": {
      "text/plain": [
       "False"
      ]
     },
     "execution_count": 128,
     "metadata": {},
     "output_type": "execute_result"
    }
   ],
   "source": [
    "100 < 45"
   ]
  },
  {
   "cell_type": "code",
   "execution_count": 129,
   "id": "fae47c28",
   "metadata": {},
   "outputs": [
    {
     "data": {
      "text/plain": [
       "True"
      ]
     },
     "execution_count": 129,
     "metadata": {},
     "output_type": "execute_result"
    }
   ],
   "source": [
    "2000 > 345"
   ]
  },
  {
   "cell_type": "code",
   "execution_count": 130,
   "id": "21873e8d",
   "metadata": {},
   "outputs": [
    {
     "data": {
      "text/plain": [
       "True"
      ]
     },
     "execution_count": 130,
     "metadata": {},
     "output_type": "execute_result"
    }
   ],
   "source": [
    "a = 2000 > 345\n",
    "a"
   ]
  },
  {
   "cell_type": "code",
   "execution_count": 131,
   "id": "ad9ff6db",
   "metadata": {},
   "outputs": [
    {
     "data": {
      "text/plain": [
       "bool"
      ]
     },
     "execution_count": 131,
     "metadata": {},
     "output_type": "execute_result"
    }
   ],
   "source": [
    "type(a)"
   ]
  },
  {
   "cell_type": "code",
   "execution_count": null,
   "id": "70d4ff13",
   "metadata": {},
   "outputs": [],
   "source": []
  }
 ],
 "metadata": {
  "kernelspec": {
   "display_name": "Python 3 (ipykernel)",
   "language": "python",
   "name": "python3"
  },
  "language_info": {
   "codemirror_mode": {
    "name": "ipython",
    "version": 3
   },
   "file_extension": ".py",
   "mimetype": "text/x-python",
   "name": "python",
   "nbconvert_exporter": "python",
   "pygments_lexer": "ipython3",
   "version": "3.9.12"
  }
 },
 "nbformat": 4,
 "nbformat_minor": 5
}
